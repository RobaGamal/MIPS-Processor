{
 "cells": [
  {
   "cell_type": "code",
   "execution_count": 3,
   "metadata": {},
   "outputs": [],
   "source": [
    "import string\n",
    "\n",
    "regs = {\n",
    "    \"r0\": \"0000\",\n",
    "    \"r1\": \"0001\",\n",
    "    \"r2\": \"0010\",\n",
    "    \"r3\": \"0011\",\n",
    "    \"r4\": \"0100\",\n",
    "    \"r5\": \"0101\",\n",
    "    \"r6\": \"0110\",\n",
    "    \"r7\": \"0111\",\n",
    "    \"notregaddr\": \"1111\",\n",
    "    \"immregaddr\": \"1010\"\n",
    "}\n",
    "\n",
    "no_ops = {\n",
    "    \"nop\" : \"00000\",\n",
    "    \"setc\" : \"00001\",\n",
    "    \"clrc\" : \"00010\",\n",
    "    \"ret\" : \"10101\",\n",
    "    \"rti\" : \"10110\"\n",
    "}\n",
    "\n",
    "one_ops = {\n",
    "    \"not\" : \"00011\",\n",
    "    \"inc\" : \"00100\",\n",
    "    \"dec\" : \"00101\",\n",
    "    \"out\" : \"00110\",\n",
    "    \"in\" : \"00111\",\n",
    "    \"push\" : \"11000\",\n",
    "    \"pop\" : \"11001\",\n",
    "    \"ldm\" : \"11010\",\n",
    "    \"jz\" : \"10000\",\n",
    "    \"jn\" : \"10001\",\n",
    "    \"jc\" : \"10010\",\n",
    "    \"jmp\" : \"10011\",\n",
    "    \"call\" : \"10100\",\n",
    "}\n",
    "\n",
    "two_ops = {\n",
    "    \"mov\" : \"01000\",\n",
    "    \"add\" : \"01001\",\n",
    "    \"sub\" : \"01010\",\n",
    "    \"and\" : \"01011\",\n",
    "    \"or\" : \"01000\",\n",
    "    \"std\" : \"11100\",\n",
    "    \"ldd\" : \"11011\",\n",
    "}\n",
    "\n",
    "imm_ops = { \n",
    "    \"shl\" : \"01101\",\n",
    "    \"shr\" : \"01110\",\n",
    "}\n",
    "\n",
    "all_ops = one_ops.copy()\n",
    "all_ops.update(two_ops)\n",
    "all_ops.update(no_ops)\n",
    "all_ops.update(imm_ops)"
   ]
  },
  {
   "cell_type": "code",
   "execution_count": 4,
   "metadata": {},
   "outputs": [],
   "source": [
    "class State:\n",
    "    mem_index = 0\n",
    "    mem = {}"
   ]
  },
  {
   "cell_type": "code",
   "execution_count": 5,
   "metadata": {},
   "outputs": [],
   "source": [
    "file_path = \"TwoOperand.asm\""
   ]
  },
  {
   "cell_type": "code",
   "execution_count": 6,
   "metadata": {},
   "outputs": [],
   "source": [
    "def is_hex_str(s):\n",
    "    return set(s).issubset(string.hexdigits)"
   ]
  },
  {
   "cell_type": "code",
   "execution_count": 21,
   "metadata": {},
   "outputs": [],
   "source": [
    "def handle_org(line, state):\n",
    "    if not line.startswith('.org'):\n",
    "        return False\n",
    "    line = line[4:]\n",
    "    line = line.strip()\n",
    "    state.mem_index = int(line, 16)\n",
    "    return True"
   ]
  },
  {
   "cell_type": "code",
   "execution_count": 20,
   "metadata": {},
   "outputs": [],
   "source": [
    "def handle_numeric(line, state):\n",
    "    for key, _ in all_ops.items():\n",
    "        if line.startswith(key):\n",
    "            return False\n",
    "    if not is_hex_str(line):\n",
    "        return False\n",
    "    x = str(bin(int(line, 16)))[2:]\n",
    "    while len(x) < 16:\n",
    "        x = \"0\" + x\n",
    "    state.mem[state.mem_index] = x\n",
    "    state.mem_index += 1\n",
    "    return True"
   ]
  },
  {
   "cell_type": "code",
   "execution_count": 9,
   "metadata": {},
   "outputs": [],
   "source": [
    "def preprocess(line):\n",
    "    commend_index = line.find('#')\n",
    "    line = line[0:commend_index]\n",
    "    line = line.replace(',', ' ')\n",
    "    line = line.strip()\n",
    "    line = line.lower()\n",
    "    return line"
   ]
  },
  {
   "cell_type": "code",
   "execution_count": 10,
   "metadata": {},
   "outputs": [],
   "source": [
    "def handle_no_ops(line, state):\n",
    "    inst = \"\"\n",
    "    success = False\n",
    "    for key, value in no_ops.items():\n",
    "        if line.startswith(key):\n",
    "            inst += value + regs[\"notregaddr\"] + regs[\"notregaddr\"] + \"000\" \n",
    "            line = line[len(key):]\n",
    "            success = True\n",
    "    if success == False:\n",
    "        return False\n",
    "    state.mem[state.mem_index] = inst\n",
    "    state.mem_index += 1\n",
    "    return True"
   ]
  },
  {
   "cell_type": "code",
   "execution_count": 11,
   "metadata": {},
   "outputs": [],
   "source": [
    "def read_operand(line):\n",
    "    line = line.strip()\n",
    "    success = False\n",
    "    for key, value in regs.items():\n",
    "        if line.startswith(key):\n",
    "            line = line[len(key):]\n",
    "            op = value\n",
    "            success = True\n",
    "    return line, op"
   ]
  },
  {
   "cell_type": "code",
   "execution_count": 12,
   "metadata": {},
   "outputs": [],
   "source": [
    "def handle_two_ops(line, state):\n",
    "    inst = \"\"\n",
    "    success = False\n",
    "    for key, value in two_ops.items():\n",
    "        if line.startswith(key):\n",
    "            line = line[len(key):]\n",
    "            inst += value\n",
    "            line, op1 = read_operand(line)\n",
    "            line, op2 = read_operand(line)\n",
    "            inst += op1\n",
    "            inst += op2\n",
    "            inst += \"000\"\n",
    "            success = True\n",
    "    if success == False:\n",
    "        return False\n",
    "    state.mem[state.mem_index] = inst\n",
    "    state.mem_index += 1\n",
    "    return True"
   ]
  },
  {
   "cell_type": "code",
   "execution_count": 13,
   "metadata": {},
   "outputs": [],
   "source": [
    "def handle_shlshr(line, state):\n",
    "    inst = \"\"\n",
    "    success = False\n",
    "    for key, value in imm_ops.items():\n",
    "        if line.startswith(key):\n",
    "            line = line[len(key):]\n",
    "            inst += value\n",
    "            line, op1 = read_operand(line)\n",
    "            inst += op1\n",
    "            inst += op1\n",
    "            line = line.strip()\n",
    "            shift = line[0]\n",
    "            shift = str(bin(int(shift, 16)))[2:]\n",
    "            while len(shift) < 3:\n",
    "                shift = \"0\" + shift\n",
    "            inst += shift\n",
    "            line = line[1:]\n",
    "            success = True\n",
    "    if success == False:\n",
    "        return False\n",
    "    state.mem[state.mem_index] = inst\n",
    "    state.mem_index += 1\n",
    "    return True"
   ]
  },
  {
   "cell_type": "code",
   "execution_count": 14,
   "metadata": {},
   "outputs": [],
   "source": [
    "def handle_one_ops(line, state):\n",
    "    inst = \"\"\n",
    "    success = False\n",
    "    for key, value in one_ops.items():\n",
    "        if line.startswith(key):\n",
    "            line = line[len(key):]\n",
    "            inst += value\n",
    "            line, op = read_operand(line)\n",
    "            inst += op\n",
    "            inst += op\n",
    "            inst += \"000\"\n",
    "            success = True\n",
    "    if success == False:\n",
    "        return False\n",
    "    state.mem[state.mem_index] = inst\n",
    "    state.mem_index += 1\n",
    "    return True"
   ]
  },
  {
   "cell_type": "code",
   "execution_count": 23,
   "metadata": {},
   "outputs": [],
   "source": [
    "state = State()\n",
    "with open(file_path) as f:\n",
    "    for line in f:\n",
    "        line = preprocess(line)\n",
    "        if len(line) == 0:\n",
    "            continue\n",
    "        if handle_numeric(line, state):\n",
    "            continue\n",
    "        if handle_org(line, state):\n",
    "            continue\n",
    "        if handle_no_ops(line, state):\n",
    "            continue\n",
    "        if handle_one_ops(line, state):\n",
    "            continue\n",
    "        if handle_two_ops(line, state):\n",
    "            continue\n",
    "        if handle_shlshr(line, state):\n",
    "            continue"
   ]
  },
  {
   "cell_type": "code",
   "execution_count": 17,
   "metadata": {},
   "outputs": [
    {
     "name": "stdout",
     "output_type": "stream",
     "text": [
      "0x0: 00000 0000 0010 000\n",
      "0x2: 00000 0010 0000 000\n",
      "0x10: 00111 0001 0001 000\n",
      "0x11: 00111 0010 0010 000\n",
      "0x12: 00111 0011 0011 000\n",
      "0x13: 00111 0100 0100 000\n",
      "0x14: 01000 0011 0101 000\n",
      "0x15: 01001 0001 0100 000\n",
      "0x16: 01010 0101 0100 000\n",
      "0x17: 01011 0110 0100 000\n",
      "0x18: 01000 0010 0001 000\n",
      "0x19: 01101 0010 0010 010\n",
      "0x1a: 01110 0010 0010 011\n",
      "0x1b: 01001 0010 0011 000\n"
     ]
    }
   ],
   "source": [
    "for key, value in state.mem.items():\n",
    "    print(hex(key) + \": \" + value[0:5] + \" \" + value[5:9] + \" \" + value[9:13] + \" \" + value[13:16])"
   ]
  },
  {
   "cell_type": "code",
   "execution_count": 26,
   "metadata": {},
   "outputs": [],
   "source": [
    "save_file = \"file.mem\"\n",
    "with open(save_file, 'w') as file:\n",
    "    file.write('// memory data file (do not edit the following line - required for mem load use)\\n')\n",
    "    file.write('// format=mti addressradix=h dataradix=b version=1.0 wordsperline=1\\n')\n",
    "    for key in state.mem.keys():\n",
    "        file.write(hex(key)[2:] + \": \" + state.mem[key] + '\\n')"
   ]
  },
  {
   "cell_type": "code",
   "execution_count": null,
   "metadata": {},
   "outputs": [],
   "source": []
  }
 ],
 "metadata": {
  "kernelspec": {
   "display_name": "Python 3",
   "language": "python",
   "name": "python3"
  },
  "language_info": {
   "codemirror_mode": {
    "name": "ipython",
    "version": 3
   },
   "file_extension": ".py",
   "mimetype": "text/x-python",
   "name": "python",
   "nbconvert_exporter": "python",
   "pygments_lexer": "ipython3",
   "version": "3.6.5"
  }
 },
 "nbformat": 4,
 "nbformat_minor": 2
}
